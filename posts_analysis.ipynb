{
 "cells": [
  {
   "cell_type": "code",
   "execution_count": 1,
   "metadata": {},
   "outputs": [],
   "source": [
    "import pymongo \n",
    "import json\n",
    "import pandas as pd"
   ]
  },
  {
   "cell_type": "code",
   "execution_count": 2,
   "metadata": {},
   "outputs": [],
   "source": [
    "client = pymongo.MongoClient(\"mongodb://localhost:27017/\")"
   ]
  },
  {
   "cell_type": "code",
   "execution_count": 3,
   "metadata": {},
   "outputs": [],
   "source": [
    "cms = client[\"cms\"]"
   ]
  },
  {
   "cell_type": "code",
   "execution_count": 4,
   "metadata": {},
   "outputs": [],
   "source": [
    "cms.posts.drop()"
   ]
  },
  {
   "cell_type": "code",
   "execution_count": 5,
   "metadata": {},
   "outputs": [],
   "source": [
    "posts = cms[\"posts\"]"
   ]
  },
  {
   "cell_type": "code",
   "execution_count": 6,
   "metadata": {},
   "outputs": [
    {
     "data": {
      "text/plain": [
       "<pymongo.results.InsertManyResult at 0x28c6c8b2ac0>"
      ]
     },
     "execution_count": 6,
     "metadata": {},
     "output_type": "execute_result"
    }
   ],
   "source": [
    "with open('C://Users/ISHA/Downloads/post_data.json') as file:\n",
    "    file_data = json.load(file)\n",
    "posts.insert_many(file_data, ordered=False, bypass_document_validation=True)"
   ]
  },
  {
   "cell_type": "code",
   "execution_count": 7,
   "metadata": {},
   "outputs": [
    {
     "data": {
      "text/plain": [
       "{'_id': ObjectId('6198aefd3be532e61ab6e65f'),\n",
       " 'status': 'public',\n",
       " 'creationDate': '2017-07-17T20:05:49Z',\n",
       " 'allowComments': True,\n",
       " 'title': 'ligula nec sem duis aliquam',\n",
       " 'description': 'in felis eu sapien cursus vestibulum proin eu mi nulla ac enim in tempor turpis nec euismod scelerisque quam turpis adipiscing lorem vitae mattis nibh ligula nec sem duis aliquam convallis nunc proin at turpis a pede posuere nonummy integer non velit donec diam neque vestibulum eget vulputate ut ultrices vel augue vestibulum ante ipsum primis in faucibus orci luctus et ultrices posuere cubilia curae donec pharetra magna vestibulum aliquet ultrices erat tortor sollicitudin mi sit amet lobortis sapien sapien non mi integer ac neque duis bibendum morbi non',\n",
       " 'tags': 1,\n",
       " 'Category': 'lifestyle',\n",
       " 'filteredPicture': False}"
      ]
     },
     "execution_count": 7,
     "metadata": {},
     "output_type": "execute_result"
    }
   ],
   "source": [
    "posts.find_one()"
   ]
  },
  {
   "cell_type": "code",
   "execution_count": 120,
   "metadata": {},
   "outputs": [
    {
     "name": "stderr",
     "output_type": "stream",
     "text": [
      "<ipython-input-120-20df16449e06>:1: DeprecationWarning: count is deprecated. Use estimated_document_count or count_documents instead. Please note that $where must be replaced by $expr, $near must be replaced by $geoWithin with $center, and $nearSphere must be replaced by $geoWithin with $centerSphere\n",
      "  n = posts.count()\n"
     ]
    }
   ],
   "source": [
    "n = posts.count()"
   ]
  },
  {
   "cell_type": "code",
   "execution_count": 41,
   "metadata": {},
   "outputs": [],
   "source": [
    "# number of posts in each category\n",
    "posts_cat = posts.aggregate([{\"$group\": {\"_id\": \"$Category\",\"count\": {\"$sum\": 1}}},{\"$sort\": {\"_id.Category\": 1,\"count\": -1}}])"
   ]
  },
  {
   "cell_type": "code",
   "execution_count": 37,
   "metadata": {},
   "outputs": [],
   "source": [
    "pc_df = pd.DataFrame(list(posts_cat))"
   ]
  },
  {
   "cell_type": "code",
   "execution_count": 38,
   "metadata": {},
   "outputs": [
    {
     "data": {
      "text/plain": [
       "['arts', 'fashion', 'lifestyle', 'movies', 'educational', 'politics', 'sports']"
      ]
     },
     "execution_count": 38,
     "metadata": {},
     "output_type": "execute_result"
    }
   ],
   "source": [
    "list(pc_df['_id'])"
   ]
  },
  {
   "cell_type": "code",
   "execution_count": 39,
   "metadata": {},
   "outputs": [
    {
     "data": {
      "text/plain": [
       "<matplotlib.axes._subplots.AxesSubplot at 0x28c6e87b940>"
      ]
     },
     "execution_count": 39,
     "metadata": {},
     "output_type": "execute_result"
    },
    {
     "data": {
      "image/png": "[encoded data removed]",
      "text/plain": [
       "<Figure size 432x288 with 1 Axes>"
      ]
     },
     "metadata": {},
     "output_type": "display_data"
    }
   ],
   "source": [
    "pc_df.plot.pie(y='count',labels = pc_df['_id'],autopct='%1.1f%%',startangle=15, shadow = True,legend=False)"
   ]
  },
  {
   "cell_type": "code",
   "execution_count": 42,
   "metadata": {},
   "outputs": [
    {
     "name": "stdout",
     "output_type": "stream",
     "text": [
      "The three most common Categories are:\n",
      "{'_id': 'arts', 'count': 311}\n",
      "{'_id': 'fashion', 'count': 300}\n",
      "{'_id': 'lifestyle', 'count': 294}\n"
     ]
    }
   ],
   "source": [
    "print(\"The three most common Categories are:\")\n",
    "for i in range(3):\n",
    "    print(posts_cat.next())"
   ]
  },
  {
   "cell_type": "code",
   "execution_count": 246,
   "metadata": {},
   "outputs": [],
   "source": [
    "# number of posts in each category\n",
    "pol_sta = posts.aggregate([{\"$match\": {\"Category\": \"politics\"}},{\"$group\": {\"_id\": \"$status\",\"count\": {\"$sum\": 1}}}])"
   ]
  },
  {
   "cell_type": "code",
   "execution_count": 242,
   "metadata": {},
   "outputs": [],
   "source": [
    "ps_df = pd.DataFrame(list(pol_sta))"
   ]
  },
  {
   "cell_type": "code",
   "execution_count": 243,
   "metadata": {},
   "outputs": [
    {
     "data": {
      "text/html": [
       "<div>\n",
       "<style scoped>\n",
       "    .dataframe tbody tr th:only-of-type {\n",
       "        vertical-align: middle;\n",
       "    }\n",
       "\n",
       "    .dataframe tbody tr th {\n",
       "        vertical-align: top;\n",
       "    }\n",
       "\n",
       "    .dataframe thead th {\n",
       "        text-align: right;\n",
       "    }\n",
       "</style>\n",
       "<table border=\"1\" class=\"dataframe\">\n",
       "  <thead>\n",
       "    <tr style=\"text-align: right;\">\n",
       "      <th></th>\n",
       "      <th>_id</th>\n",
       "      <th>count</th>\n",
       "    </tr>\n",
       "  </thead>\n",
       "  <tbody>\n",
       "    <tr>\n",
       "      <th>0</th>\n",
       "      <td>private</td>\n",
       "      <td>148</td>\n",
       "    </tr>\n",
       "    <tr>\n",
       "      <th>1</th>\n",
       "      <td>public</td>\n",
       "      <td>126</td>\n",
       "    </tr>\n",
       "  </tbody>\n",
       "</table>\n",
       "</div>"
      ],
      "text/plain": [
       "       _id  count\n",
       "0  private    148\n",
       "1   public    126"
      ]
     },
     "execution_count": 243,
     "metadata": {},
     "output_type": "execute_result"
    }
   ],
   "source": [
    "ps_df"
   ]
  },
  {
   "cell_type": "code",
   "execution_count": 244,
   "metadata": {},
   "outputs": [
    {
     "data": {
      "text/plain": [
       "<matplotlib.axes._subplots.AxesSubplot at 0x28c727be670>"
      ]
     },
     "execution_count": 244,
     "metadata": {},
     "output_type": "execute_result"
    },
    {
     "data": {
      "image/png": "[encoded data removed]",
      "text/plain": [
       "<Figure size 432x288 with 1 Axes>"
      ]
     },
     "metadata": {},
     "output_type": "display_data"
    }
   ],
   "source": [
    "ps_df.plot.bar(x='_id',y='count',title = \"Number of private and public posts in politics\")"
   ]
  },
  {
   "cell_type": "code",
   "execution_count": 247,
   "metadata": {},
   "outputs": [
    {
     "name": "stdout",
     "output_type": "stream",
     "text": [
      "{'_id': 'private', 'count': 148}\n",
      "{'_id': 'public', 'count': 126}\n"
     ]
    }
   ],
   "source": [
    "for i in range(2):\n",
    "    print(pol_sta.next())"
   ]
  },
  {
   "cell_type": "markdown",
   "metadata": {},
   "source": [
    "# date and time analysis"
   ]
  },
  {
   "cell_type": "code",
   "execution_count": 48,
   "metadata": {},
   "outputs": [],
   "source": [
    "cms.posts.update_many({}, {'$set': {\"hour\": 0 }});\n",
    "cms.posts.update_many({}, {'$set': {\"year\": 0}});"
   ]
  },
  {
   "cell_type": "code",
   "execution_count": 49,
   "metadata": {},
   "outputs": [],
   "source": [
    "for data in posts.find({}):\n",
    "    posts.update_one({\"_id\":data['_id']},{'$set':{ 'hour' : data['creationDate'].split('T')[1].split(':')[0],'year' : data['creationDate'].split('T')[0].split('-')[0] }})"
   ]
  },
  {
   "cell_type": "code",
   "execution_count": 101,
   "metadata": {},
   "outputs": [],
   "source": [
    "# which year had the most posts \n",
    "posts_yr = posts.aggregate([{\"$group\": {\"_id\": \"$year\",\"count\": {\"$sum\": 1}}},{\"$sort\": {\"_id.year\": 1,\"count\": 1}}])"
   ]
  },
  {
   "cell_type": "code",
   "execution_count": 100,
   "metadata": {},
   "outputs": [
    {
     "data": {
      "text/plain": [
       "<matplotlib.axes._subplots.AxesSubplot at 0x28c6ed4df70>"
      ]
     },
     "execution_count": 100,
     "metadata": {},
     "output_type": "execute_result"
    },
    {
     "data": {
      "image/png": "[encoded data removed]",
      "text/plain": [
       "<Figure size 432x288 with 1 Axes>"
      ]
     },
     "metadata": {
      "needs_background": "light"
     },
     "output_type": "display_data"
    }
   ],
   "source": [
    "py_df = pd.DataFrame(list(posts_yr))\n",
    "py_df.plot.line(x='_id',y='count',title = \"Number of posts by year\")"
   ]
  },
  {
   "cell_type": "code",
   "execution_count": 102,
   "metadata": {},
   "outputs": [
    {
     "name": "stdout",
     "output_type": "stream",
     "text": [
      "{'_id': '2015', 'count': 76}\n",
      "{'_id': '2016', 'count': 299}\n",
      "{'_id': '2019', 'count': 303}\n",
      "{'_id': '2017', 'count': 309}\n",
      "{'_id': '2021', 'count': 330}\n",
      "{'_id': '2020', 'count': 334}\n",
      "{'_id': '2018', 'count': 349}\n"
     ]
    }
   ],
   "source": [
    "for i in range(7):\n",
    "    print(posts_yr.next())"
   ]
  },
  {
   "cell_type": "code",
   "execution_count": 103,
   "metadata": {},
   "outputs": [],
   "source": [
    "# which hour most posted\n",
    "posts_hr = posts.aggregate([{\"$group\": {\"_id\": \"$hour\",\"count\": {\"$sum\": 1}}},{\"$sort\": {\"_id.hour\": 1,\"count\": -1}}])"
   ]
  },
  {
   "cell_type": "code",
   "execution_count": 104,
   "metadata": {},
   "outputs": [
    {
     "name": "stdout",
     "output_type": "stream",
     "text": [
      "{'_id': '00', 'count': 103}\n",
      "{'_id': '08', 'count': 101}\n",
      "{'_id': '02', 'count': 99}\n"
     ]
    }
   ],
   "source": [
    "for i in range(3):\n",
    "    print(posts_hr.next())"
   ]
  },
  {
   "cell_type": "code",
   "execution_count": 105,
   "metadata": {},
   "outputs": [],
   "source": [
    "# 00 which category\n",
    "cat_00 = posts.aggregate([{\"$match\": {\"hour\": \"00\"}},{\"$group\": {\"_id\": \"$Category\",\"count\": {\"$sum\": 1}}},{\"$sort\": {\"_id.Category\": 1,\"count\": -1}}])"
   ]
  },
  {
   "cell_type": "code",
   "execution_count": 106,
   "metadata": {},
   "outputs": [
    {
     "data": {
      "text/plain": [
       "<matplotlib.axes._subplots.AxesSubplot at 0x28c6edbd3a0>"
      ]
     },
     "execution_count": 106,
     "metadata": {},
     "output_type": "execute_result"
    },
    {
     "data": {
      "image/png": "[encoded data removed]",
      "text/plain": [
       "<Figure size 432x288 with 1 Axes>"
      ]
     },
     "metadata": {
      "needs_background": "light"
     },
     "output_type": "display_data"
    }
   ],
   "source": [
    "c0_df = pd.DataFrame(list(cat_00))\n",
    "c0_df.plot.bar(x='_id',y='count', title = \"Number of posts in the 00th hour\")"
   ]
  },
  {
   "cell_type": "code",
   "execution_count": 64,
   "metadata": {},
   "outputs": [
    {
     "name": "stdout",
     "output_type": "stream",
     "text": [
      "{'_id': 'lifestyle', 'count': 19}\n",
      "{'_id': 'movies', 'count': 18}\n",
      "{'_id': 'educational', 'count': 17}\n",
      "{'_id': 'fashion', 'count': 15}\n",
      "{'_id': 'politics', 'count': 14}\n",
      "{'_id': 'arts', 'count': 11}\n",
      "{'_id': 'sports', 'count': 9}\n"
     ]
    }
   ],
   "source": [
    "for i in range(7):\n",
    "    print(cat_00.next())"
   ]
  },
  {
   "cell_type": "code",
   "execution_count": 65,
   "metadata": {},
   "outputs": [],
   "source": [
    "## comments allowed number\n",
    "com = posts.count_documents({'allowComments':True})"
   ]
  },
  {
   "cell_type": "code",
   "execution_count": 66,
   "metadata": {},
   "outputs": [
    {
     "name": "stdout",
     "output_type": "stream",
     "text": [
      "The number of posts that allow comments on it, 964\n"
     ]
    }
   ],
   "source": [
    "print(\"The number of posts that allow comments on it,\",com)"
   ]
  },
  {
   "cell_type": "code",
   "execution_count": 134,
   "metadata": {},
   "outputs": [
    {
     "data": {
      "text/plain": [
       "Text(0, 0.5, 'No, of posts')"
      ]
     },
     "execution_count": 134,
     "metadata": {},
     "output_type": "execute_result"
    },
    {
     "data": {
      "image/png": "[encoded data removed]",
      "text/plain": [
       "<Figure size 432x288 with 1 Axes>"
      ]
     },
     "metadata": {},
     "output_type": "display_data"
    }
   ],
   "source": [
    "import matplotlib.pyplot as plt\n",
    "import seaborn as sns\n",
    "\n",
    "sns.set_style('darkgrid')\n",
    "\n",
    "x = ['Commented', 'Uncommented']\n",
    "y = [com, n-com]\n",
    "\n",
    "sns.barplot(x, y,palette='twilight_r')\n",
    "plt.title(\"Number of commented & uncommented posts\")\n",
    "plt.xlabel(\"Status\")\n",
    "plt.ylabel(\"No, of posts\")"
   ]
  },
  {
   "cell_type": "code",
   "execution_count": 124,
   "metadata": {},
   "outputs": [],
   "source": [
    "cms.posts.update_many({}, {'$set': {\"length_of_heading\": 0}});"
   ]
  },
  {
   "cell_type": "code",
   "execution_count": 125,
   "metadata": {},
   "outputs": [],
   "source": [
    "for data in posts.find({}):\n",
    "    posts.update_one({\"_id\":data['_id']},{'$set':{ 'length_of_heading' : len(data['title'].split(' '))}})"
   ]
  },
  {
   "cell_type": "code",
   "execution_count": 167,
   "metadata": {},
   "outputs": [],
   "source": [
    "## length of the title\n",
    "len_titles = posts.aggregate([{\"$group\": {\"_id\": \"$length_of_heading\",\"count\": {\"$sum\": 1}}},{\"$sort\": {\"_id.length_of_heading\": 1,\"count\": -1}}])"
   ]
  },
  {
   "cell_type": "code",
   "execution_count": 157,
   "metadata": {},
   "outputs": [
    {
     "data": {
      "text/plain": [
       "<pymongo.command_cursor.CommandCursor at 0x28c713c1eb0>"
      ]
     },
     "execution_count": 157,
     "metadata": {},
     "output_type": "execute_result"
    }
   ],
   "source": [
    "len_titles "
   ]
  },
  {
   "cell_type": "code",
   "execution_count": 156,
   "metadata": {},
   "outputs": [
    {
     "name": "stdout",
     "output_type": "stream",
     "text": [
      "{'_id': 3, 'count': 355}\n",
      "{'_id': 4, 'count': 345}\n",
      "{'_id': 1, 'count': 343}\n",
      "{'_id': 5, 'count': 337}\n",
      "{'_id': 6, 'count': 336}\n"
     ]
    }
   ],
   "source": [
    "for i in range(5):\n",
    "    print(len_titles.next())"
   ]
  },
  {
   "cell_type": "code",
   "execution_count": 168,
   "metadata": {},
   "outputs": [
    {
     "data": {
      "text/html": [
       "<div>\n",
       "<style scoped>\n",
       "    .dataframe tbody tr th:only-of-type {\n",
       "        vertical-align: middle;\n",
       "    }\n",
       "\n",
       "    .dataframe tbody tr th {\n",
       "        vertical-align: top;\n",
       "    }\n",
       "\n",
       "    .dataframe thead th {\n",
       "        text-align: right;\n",
       "    }\n",
       "</style>\n",
       "<table border=\"1\" class=\"dataframe\">\n",
       "  <thead>\n",
       "    <tr style=\"text-align: right;\">\n",
       "      <th></th>\n",
       "      <th>_id</th>\n",
       "      <th>count</th>\n",
       "    </tr>\n",
       "  </thead>\n",
       "  <tbody>\n",
       "    <tr>\n",
       "      <th>0</th>\n",
       "      <td>3</td>\n",
       "      <td>355</td>\n",
       "    </tr>\n",
       "    <tr>\n",
       "      <th>1</th>\n",
       "      <td>4</td>\n",
       "      <td>345</td>\n",
       "    </tr>\n",
       "    <tr>\n",
       "      <th>2</th>\n",
       "      <td>1</td>\n",
       "      <td>343</td>\n",
       "    </tr>\n",
       "    <tr>\n",
       "      <th>3</th>\n",
       "      <td>5</td>\n",
       "      <td>337</td>\n",
       "    </tr>\n",
       "    <tr>\n",
       "      <th>4</th>\n",
       "      <td>6</td>\n",
       "      <td>336</td>\n",
       "    </tr>\n",
       "    <tr>\n",
       "      <th>5</th>\n",
       "      <td>2</td>\n",
       "      <td>284</td>\n",
       "    </tr>\n",
       "  </tbody>\n",
       "</table>\n",
       "</div>"
      ],
      "text/plain": [
       "   _id  count\n",
       "0    3    355\n",
       "1    4    345\n",
       "2    1    343\n",
       "3    5    337\n",
       "4    6    336\n",
       "5    2    284"
      ]
     },
     "execution_count": 168,
     "metadata": {},
     "output_type": "execute_result"
    }
   ],
   "source": [
    "title_df = pd.DataFrame(list(len_titles))\n",
    "title_df\n"
   ]
  },
  {
   "cell_type": "code",
   "execution_count": 197,
   "metadata": {},
   "outputs": [
    {
     "data": {
      "image/png": "[encoded data removed]",
      "text/plain": [
       "<Figure size 432x288 with 1 Axes>"
      ]
     },
     "metadata": {},
     "output_type": "display_data"
    }
   ],
   "source": [
    "ax = sns.lineplot(x='_id', y='count', data=title_df,color ='black')\n",
    "ax.lines[0].set_linestyle(\"--\")\n",
    "\n",
    "plt.show()"
   ]
  },
  {
   "cell_type": "code",
   "execution_count": 162,
   "metadata": {},
   "outputs": [],
   "source": [
    "# number of posts with tags > 0\n",
    "tags = posts.aggregate([{\"$group\":{\"_id\": \"$tags\",\"count\": {\"$sum\": 1}}},{\"$sort\": {\"_id.tags\": 1,\"count\": -1}}])"
   ]
  },
  {
   "cell_type": "code",
   "execution_count": 17,
   "metadata": {},
   "outputs": [
    {
     "name": "stdout",
     "output_type": "stream",
     "text": [
      "{'_id': 3, 'count': 203}\n",
      "{'_id': 5, 'count': 195}\n",
      "{'_id': 4, 'count': 192}\n",
      "{'_id': 2, 'count': 187}\n",
      "{'_id': 7, 'count': 186}\n",
      "{'_id': 1, 'count': 185}\n",
      "{'_id': 8, 'count': 184}\n",
      "{'_id': 6, 'count': 178}\n",
      "{'_id': 0, 'count': 174}\n",
      "{'_id': 10, 'count': 169}\n"
     ]
    }
   ],
   "source": [
    "for i in range(10):\n",
    "    print(tags.next())"
   ]
  },
  {
   "cell_type": "code",
   "execution_count": 175,
   "metadata": {},
   "outputs": [],
   "source": [
    "cat_tags = posts.find({'tags': {'$gt':0}},{'Category':1})"
   ]
  },
  {
   "cell_type": "code",
   "execution_count": 180,
   "metadata": {},
   "outputs": [],
   "source": [
    "# category that tags the most\n",
    "cat_tags = posts.aggregate([{\"$match\": {\"tags\": {\"$gt\":0}}},{\"$group\":{\"_id\": \"$Category\",\"count\": {\"$sum\": 1}}},{\"$sort\": {\"_id.tags\": 1,\"count\": -1}}])"
   ]
  },
  {
   "cell_type": "code",
   "execution_count": 181,
   "metadata": {},
   "outputs": [
    {
     "data": {
      "text/html": [
       "<div>\n",
       "<style scoped>\n",
       "    .dataframe tbody tr th:only-of-type {\n",
       "        vertical-align: middle;\n",
       "    }\n",
       "\n",
       "    .dataframe tbody tr th {\n",
       "        vertical-align: top;\n",
       "    }\n",
       "\n",
       "    .dataframe thead th {\n",
       "        text-align: right;\n",
       "    }\n",
       "</style>\n",
       "<table border=\"1\" class=\"dataframe\">\n",
       "  <thead>\n",
       "    <tr style=\"text-align: right;\">\n",
       "      <th></th>\n",
       "      <th>_id</th>\n",
       "      <th>count</th>\n",
       "    </tr>\n",
       "  </thead>\n",
       "  <tbody>\n",
       "    <tr>\n",
       "      <th>0</th>\n",
       "      <td>arts</td>\n",
       "      <td>276</td>\n",
       "    </tr>\n",
       "    <tr>\n",
       "      <th>1</th>\n",
       "      <td>fashion</td>\n",
       "      <td>276</td>\n",
       "    </tr>\n",
       "    <tr>\n",
       "      <th>2</th>\n",
       "      <td>movies</td>\n",
       "      <td>264</td>\n",
       "    </tr>\n",
       "    <tr>\n",
       "      <th>3</th>\n",
       "      <td>lifestyle</td>\n",
       "      <td>262</td>\n",
       "    </tr>\n",
       "    <tr>\n",
       "      <th>4</th>\n",
       "      <td>politics</td>\n",
       "      <td>258</td>\n",
       "    </tr>\n",
       "    <tr>\n",
       "      <th>5</th>\n",
       "      <td>educational</td>\n",
       "      <td>255</td>\n",
       "    </tr>\n",
       "    <tr>\n",
       "      <th>6</th>\n",
       "      <td>sports</td>\n",
       "      <td>235</td>\n",
       "    </tr>\n",
       "  </tbody>\n",
       "</table>\n",
       "</div>"
      ],
      "text/plain": [
       "           _id  count\n",
       "0         arts    276\n",
       "1      fashion    276\n",
       "2       movies    264\n",
       "3    lifestyle    262\n",
       "4     politics    258\n",
       "5  educational    255\n",
       "6       sports    235"
      ]
     },
     "execution_count": 181,
     "metadata": {},
     "output_type": "execute_result"
    }
   ],
   "source": [
    "ct_df = pd.DataFrame(list(cat_tags))\n",
    "ct_df"
   ]
  },
  {
   "cell_type": "code",
   "execution_count": 184,
   "metadata": {},
   "outputs": [
    {
     "data": {
      "text/plain": [
       "<matplotlib.axes._subplots.AxesSubplot at 0x28c713322e0>"
      ]
     },
     "execution_count": 184,
     "metadata": {},
     "output_type": "execute_result"
    },
    {
     "data": {
      "image/png": "[encoded data removed]",
      "text/plain": [
       "<Figure size 432x288 with 1 Axes>"
      ]
     },
     "metadata": {},
     "output_type": "display_data"
    }
   ],
   "source": [
    "sns.barplot(x='_id',y='count',data = ct_df,palette='twilight_r')"
   ]
  },
  {
   "cell_type": "code",
   "execution_count": 113,
   "metadata": {},
   "outputs": [
    {
     "name": "stdout",
     "output_type": "stream",
     "text": [
      "{'_id': 'arts', 'count': 276}\n",
      "{'_id': 'fashion', 'count': 276}\n",
      "{'_id': 'movies', 'count': 264}\n"
     ]
    }
   ],
   "source": [
    "for i in range(3):\n",
    "    print(cat_tags.next())"
   ]
  },
  {
   "cell_type": "code",
   "execution_count": 199,
   "metadata": {},
   "outputs": [],
   "source": [
    "# which category uses the most filters\n",
    "cat_fs = posts.aggregate([{\"$match\": {\"filteredPicture\": True}},{\"$group\":{\"_id\": \"$Category\",\"count\": {\"$sum\": 1}}},{\"$sort\": {\"_id.tags\": 1,\"count\": -1}}])"
   ]
  },
  {
   "cell_type": "code",
   "execution_count": 200,
   "metadata": {},
   "outputs": [
    {
     "name": "stdout",
     "output_type": "stream",
     "text": [
      "{'_id': 'fashion', 'count': 159}\n",
      "{'_id': 'movies', 'count': 154}\n",
      "{'_id': 'arts', 'count': 146}\n",
      "{'_id': 'lifestyle', 'count': 136}\n",
      "{'_id': 'educational', 'count': 135}\n",
      "{'_id': 'politics', 'count': 131}\n",
      "{'_id': 'sports', 'count': 117}\n"
     ]
    }
   ],
   "source": [
    "for i in range(7):\n",
    "    print(cat_fs.next())"
   ]
  },
  {
   "cell_type": "code",
   "execution_count": 47,
   "metadata": {},
   "outputs": [],
   "source": [
    "cms.posts.update_many({}, {'$set': {\"length_of_des\": 0}});\n",
    "for data in posts.find({}):\n",
    "    posts.update_one({\"_id\":data['_id']},{'$set':{ 'length_of_des' : len(data['description'].split(' '))}})"
   ]
  },
  {
   "cell_type": "code",
   "execution_count": 121,
   "metadata": {},
   "outputs": [],
   "source": [
    "# which category has lengthy descriptions\n",
    "cat_des = posts.aggregate([{\"$match\": {\"length_of_des\": {\"$gte\":60}}},{\"$group\":{\"_id\": \"$Category\",\"count\": {\"$sum\": 1}}},{\"$sort\": {\"_id.tags\": 1,\"count\": -1}}])"
   ]
  },
  {
   "cell_type": "code",
   "execution_count": 122,
   "metadata": {},
   "outputs": [
    {
     "name": "stdout",
     "output_type": "stream",
     "text": [
      "{'_id': 'arts', 'count': 178}\n",
      "{'_id': 'fashion', 'count': 161}\n",
      "{'_id': 'movies', 'count': 159}\n",
      "{'_id': 'educational', 'count': 156}\n",
      "{'_id': 'lifestyle', 'count': 156}\n",
      "{'_id': 'politics', 'count': 146}\n",
      "{'_id': 'sports', 'count': 130}\n"
     ]
    }
   ],
   "source": [
    "for i in range(7):\n",
    "    print(cat_des.next())"
   ]
  },
  {
   "cell_type": "code",
   "execution_count": 203,
   "metadata": {},
   "outputs": [
    {
     "data": {
      "text/plain": [
       "{'_id': ObjectId('6198aefd3be532e61ab6e65f'),\n",
       " 'status': 'public',\n",
       " 'creationDate': '2017-07-17T20:05:49Z',\n",
       " 'allowComments': True,\n",
       " 'title': 'ligula nec sem duis aliquam',\n",
       " 'description': 'in felis eu sapien cursus vestibulum proin eu mi nulla ac enim in tempor turpis nec euismod scelerisque quam turpis adipiscing lorem vitae mattis nibh ligula nec sem duis aliquam convallis nunc proin at turpis a pede posuere nonummy integer non velit donec diam neque vestibulum eget vulputate ut ultrices vel augue vestibulum ante ipsum primis in faucibus orci luctus et ultrices posuere cubilia curae donec pharetra magna vestibulum aliquet ultrices erat tortor sollicitudin mi sit amet lobortis sapien sapien non mi integer ac neque duis bibendum morbi non',\n",
       " 'tags': 1,\n",
       " 'Category': 'lifestyle',\n",
       " 'filteredPicture': False,\n",
       " 'length_of_heading': 5,\n",
       " 'hour': '20',\n",
       " 'year': '2017'}"
      ]
     },
     "execution_count": 203,
     "metadata": {},
     "output_type": "execute_result"
    }
   ],
   "source": [
    "posts.find_one()"
   ]
  },
  {
   "cell_type": "code",
   "execution_count": 236,
   "metadata": {},
   "outputs": [],
   "source": [
    "posts_hr = posts.aggregate([{\"$group\": {\"_id\": [\"$hour\",\"$Category\"],\"count\": {\"$sum\": 1}}},{\"$sort\": {\"_id.hour\": 1,\"count\": -1}}])"
   ]
  },
  {
   "cell_type": "code",
   "execution_count": 237,
   "metadata": {},
   "outputs": [],
   "source": [
    "postshr_df = pd.DataFrame(posts_hr)"
   ]
  },
  {
   "cell_type": "code",
   "execution_count": 238,
   "metadata": {},
   "outputs": [],
   "source": [
    "split_df = pd.DataFrame(postshr_df ['_id'].to_list(), columns = ['hour', 'category'])\n",
    "df = pd.concat([split_df, postshr_df['count']], axis=1)"
   ]
  },
  {
   "cell_type": "code",
   "execution_count": 249,
   "metadata": {},
   "outputs": [
    {
     "data": {
      "text/html": [
       "<div>\n",
       "<style scoped>\n",
       "    .dataframe tbody tr th:only-of-type {\n",
       "        vertical-align: middle;\n",
       "    }\n",
       "\n",
       "    .dataframe tbody tr th {\n",
       "        vertical-align: top;\n",
       "    }\n",
       "\n",
       "    .dataframe thead th {\n",
       "        text-align: right;\n",
       "    }\n",
       "</style>\n",
       "<table border=\"1\" class=\"dataframe\">\n",
       "  <thead>\n",
       "    <tr style=\"text-align: right;\">\n",
       "      <th></th>\n",
       "      <th>hour</th>\n",
       "      <th>category</th>\n",
       "      <th>count</th>\n",
       "    </tr>\n",
       "  </thead>\n",
       "  <tbody>\n",
       "    <tr>\n",
       "      <th>0</th>\n",
       "      <td>11</td>\n",
       "      <td>arts</td>\n",
       "      <td>23</td>\n",
       "    </tr>\n",
       "    <tr>\n",
       "      <th>1</th>\n",
       "      <td>08</td>\n",
       "      <td>politics</td>\n",
       "      <td>21</td>\n",
       "    </tr>\n",
       "    <tr>\n",
       "      <th>2</th>\n",
       "      <td>11</td>\n",
       "      <td>educational</td>\n",
       "      <td>20</td>\n",
       "    </tr>\n",
       "    <tr>\n",
       "      <th>3</th>\n",
       "      <td>16</td>\n",
       "      <td>lifestyle</td>\n",
       "      <td>20</td>\n",
       "    </tr>\n",
       "    <tr>\n",
       "      <th>4</th>\n",
       "      <td>10</td>\n",
       "      <td>fashion</td>\n",
       "      <td>19</td>\n",
       "    </tr>\n",
       "    <tr>\n",
       "      <th>...</th>\n",
       "      <td>...</td>\n",
       "      <td>...</td>\n",
       "      <td>...</td>\n",
       "    </tr>\n",
       "    <tr>\n",
       "      <th>163</th>\n",
       "      <td>13</td>\n",
       "      <td>sports</td>\n",
       "      <td>5</td>\n",
       "    </tr>\n",
       "    <tr>\n",
       "      <th>164</th>\n",
       "      <td>22</td>\n",
       "      <td>politics</td>\n",
       "      <td>5</td>\n",
       "    </tr>\n",
       "    <tr>\n",
       "      <th>165</th>\n",
       "      <td>06</td>\n",
       "      <td>sports</td>\n",
       "      <td>5</td>\n",
       "    </tr>\n",
       "    <tr>\n",
       "      <th>166</th>\n",
       "      <td>11</td>\n",
       "      <td>lifestyle</td>\n",
       "      <td>4</td>\n",
       "    </tr>\n",
       "    <tr>\n",
       "      <th>167</th>\n",
       "      <td>12</td>\n",
       "      <td>politics</td>\n",
       "      <td>3</td>\n",
       "    </tr>\n",
       "  </tbody>\n",
       "</table>\n",
       "<p>168 rows × 3 columns</p>\n",
       "</div>"
      ],
      "text/plain": [
       "    hour     category  count\n",
       "0     11         arts     23\n",
       "1     08     politics     21\n",
       "2     11  educational     20\n",
       "3     16    lifestyle     20\n",
       "4     10      fashion     19\n",
       "..   ...          ...    ...\n",
       "163   13       sports      5\n",
       "164   22     politics      5\n",
       "165   06       sports      5\n",
       "166   11    lifestyle      4\n",
       "167   12     politics      3\n",
       "\n",
       "[168 rows x 3 columns]"
      ]
     },
     "execution_count": 249,
     "metadata": {},
     "output_type": "execute_result"
    }
   ],
   "source": [
    "df"
   ]
  },
  {
   "cell_type": "code",
   "execution_count": 257,
   "metadata": {},
   "outputs": [
    {
     "data": {
      "image/png": "[encoded data removed]",
      "text/plain": [
       "<Figure size 432x288 with 1 Axes>"
      ]
     },
     "metadata": {},
     "output_type": "display_data"
    }
   ],
   "source": [
    "import numpy as np\n",
    "import pandas as pd\n",
    "import matplotlib.pyplot as plt\n",
    "\n",
    "fig, ax = plt.subplots()\n",
    "\n",
    "for key, grp in df.groupby(['category']):\n",
    "    ax = grp.plot(ax=ax, kind='line', x='hour', y='count', label=key)\n",
    "\n",
    "plt.legend(loc='best')\n",
    "plt.show()"
   ]
  },
  {
   "cell_type": "code",
   "execution_count": null,
   "metadata": {},
   "outputs": [],
   "source": []
  }
 ],
 "metadata": {
  "kernelspec": {
   "display_name": "Python 3",
   "language": "python",
   "name": "python3"
  },
  "language_info": {
   "codemirror_mode": {
    "name": "ipython",
    "version": 3
   },
   "file_extension": ".py",
   "mimetype": "text/x-python",
   "name": "python",
   "nbconvert_exporter": "python",
   "pygments_lexer": "ipython3",
   "version": "3.8.5"
  },
  "toc": {
   "base_numbering": 1,
   "nav_menu": {},
   "number_sections": false,
   "sideBar": false,
   "skip_h1_title": false,
   "title_cell": "Table of Contents",
   "title_sidebar": "Contents",
   "toc_cell": false,
   "toc_position": {},
   "toc_section_display": false,
   "toc_window_display": false
  }
 },
 "nbformat": 4,
 "nbformat_minor": 4
}
